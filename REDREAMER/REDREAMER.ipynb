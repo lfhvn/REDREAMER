{
 "cells": [
  {
   "cell_type": "markdown",
   "metadata": {},
   "source": [
    "# REDREAMER\n",
    "This project generates novel dreams based on a corpus of dreams."
   ]
  },
  {
   "cell_type": "code",
   "execution_count": 246,
   "metadata": {
    "collapsed": true
   },
   "outputs": [],
   "source": [
    "\"\"\"\n",
    "DON'T MODIFY ANYTHING IN THIS CELL\n",
    "\"\"\"\n",
    "import helper\n",
    "\n",
    "data_dir = './data/dreams1.txt'\n",
    "text = helper.load_data(data_dir)\n",
    "# Ignore notice, since we don't use it for analysing the data\n",
    "text = text[0:]"
   ]
  },
  {
   "cell_type": "markdown",
   "metadata": {},
   "source": [
    "## Explore the Data\n",
    "Play around with `view_sentence_range` to view different parts of the data."
   ]
  },
  {
   "cell_type": "code",
   "execution_count": 248,
   "metadata": {},
   "outputs": [
    {
     "name": "stdout",
     "output_type": "stream",
     "text": [
      "Dataset Stats\n",
      "Roughly the number of unique words: 5309\n",
      "Number of scenes: 254\n",
      "Average number of sentences in each scene: 1.8425196850393701\n",
      "Number of lines: 722\n",
      "Average number of words in each line: 38.692520775623265\n",
      "\n",
      "The sentences 1 to 50:\n",
      "Dream of being on the food game show Chopped\n",
      "\n",
      "\n",
      "The basket ingredients included lettuce and some kind of oyster or clam. \n",
      "\n",
      "\n",
      "After the first round I fell asleep in the kitchen while waiting for rice to cook\n",
      "\n",
      "\n",
      "And failed to create any kind of dish \n",
      "\n",
      "\n",
      "But my meal as a whole was called The Canon\n",
      "\n",
      "\n",
      "The judges said that The Canon lacked cohesion and they had to chop me\n",
      "\n",
      "\n",
      "________________\n",
      "Dream\n",
      "\n",
      "\n",
      "There are two young girls that are related somehow, but separated by a world that’s warring. There are two major countries or tribes. One is something like Asgaard(ians?) while the other is more technologically advanced or interested? \n",
      "\n",
      "\n",
      "War scene where the first group uses giant (dinosaur-like?) animals and the latter uses war machines that look futuristic, almost mecha/gundam. \n",
      "\n",
      "\n",
      "The two cultures are very different. The first girl is embraced and celebrated, while the second is belittled. The second girl is riding on a boat, down a canal. It looks like Bangkok, an urban fishing town. There are signs that say things like “Women support the soldiers.”\n",
      "________________\n",
      "Dream\n",
      "\n",
      "\n",
      "At a zoo of some kind playing bull fighter with a huge elk. Its horns were intricate and broad. The space the elk was in hardly held the antlers. It wouldn’t charge because it didn’t have space.\n",
      "\n",
      "\n",
      "In a different part a rhinoceros grazed. I ran or jogged past it. There were other fake rhinoceroses made out of concrete along the trail. The fake rhinoceros looked so life like it was hard to tell which were real and which were fake. The fake ones seemed to be there to distract the live ones or maybe to hide behind if one charged. One did charge, and began chasing me.\n",
      "\n",
      "\n",
      "I stayed ahead of the rhinoceros. There was also another animal, an antelope or maybe a springbok in the pen running behind the rhinoceros. The rhinoceros was closing on me, but I saw that I was close to some bars that should let me out of the enclosure but keep the rhinoceros in. When I got to the bars, I turned and watched the rhinoceros go right through the bars with the springbok behind, and go straight past me. But there was no where to run past that because it was just walls and the rhinoceros was trapped. \n",
      "\n",
      "\n",
      "The rhinoceros and the springbok had a kind of face off, and I realized that the rhinoceros wasn’t running for me, it was running from the antelope. Then the antelope kind of opened its mouth and ate the rhinoceros whole. I was even more scared then but the springbok didn’t seem interested in me.\n",
      "\n",
      "\n",
      "Later, I think in the same zoo, I petted a tiny puppy. It wriggled like a puppy, half embryonic almost, hardly seeing, so young and soft, but somehow not brown enough. I also knew that it was not a puppy. \n",
      "________________\n",
      "We entered the unnamed country through secret routes, staying close to the tree lines, but not too close because the forest was dark. We encountered villagers. They called their city Columbus. They offered us some meager food, and a broken knife to defend ourselves. We had a rag tent and a yellow lighter. We slept in a garden of rocks that made it easy for things to creep up onto us though nothing did.\n",
      "\n"
     ]
    }
   ],
   "source": [
    "view_sentence_range = (1, 50)\n",
    "\n",
    "\"\"\"\n",
    "DON'T MODIFY ANYTHING IN THIS CELL\n",
    "\"\"\"\n",
    "import numpy as np\n",
    "\n",
    "print('Dataset Stats')\n",
    "embedding_dim = len({word: None for word in text.split()})\n",
    "print('Roughly the number of unique words: {}'.format(len({word: None for word in text.split()})))\n",
    "scenes = text.split('\\n\\n')\n",
    "print('Number of scenes: {}'.format(len(scenes)))\n",
    "sentence_count_scene = [scene.count('\\n') for scene in scenes]\n",
    "print('Average number of sentences in each scene: {}'.format(np.average(sentence_count_scene)))\n",
    "\n",
    "sentences = [sentence for scene in scenes for sentence in scene.split('\\n')]\n",
    "print('Number of lines: {}'.format(len(sentences)))\n",
    "word_count_sentence = [len(sentence.split()) for sentence in sentences]\n",
    "print('Average number of words in each line: {}'.format(np.average(word_count_sentence)))\n",
    "\n",
    "print()\n",
    "print('The sentences {} to {}:'.format(*view_sentence_range))\n",
    "print('\\n'.join(text.split('\\n')[view_sentence_range[0]:view_sentence_range[1]]))"
   ]
  },
  {
   "cell_type": "markdown",
   "metadata": {},
   "source": [
    "## Implement Preprocessing Functions\n",
    "The first thing to do to any dataset is preprocessing.  Implement the following preprocessing functions below:\n",
    "- Lookup Table\n",
    "- Tokenize Punctuation\n",
    "\n",
    "### Lookup Table\n",
    "To create a word embedding, you first need to transform the words to ids.  In this function, create two dictionaries:\n",
    "- Dictionary to go from the words to an id, we'll call `vocab_to_int`\n",
    "- Dictionary to go from the id to word, we'll call `int_to_vocab`\n",
    "\n",
    "Return these dictionaries in the following tuple `(vocab_to_int, int_to_vocab)`"
   ]
  },
  {
   "cell_type": "code",
   "execution_count": 249,
   "metadata": {},
   "outputs": [
    {
     "name": "stdout",
     "output_type": "stream",
     "text": [
      "Tests Passed\n"
     ]
    }
   ],
   "source": [
    "import numpy as np\n",
    "import problem_unittests as tests\n",
    "from collections import Counter\n",
    "import tensorflow as tf\n",
    "\n",
    "def create_lookup_tables(text):\n",
    "    vocab_to_int = {}\n",
    "    int_to_vocab = {}\n",
    "    for i, word in enumerate(set(text)):\n",
    "        vocab_to_int[word] = i\n",
    "        int_to_vocab[i] = word\n",
    "    return vocab_to_int, int_to_vocab\n",
    "        \n",
    "\n",
    "\"\"\"\n",
    "DON'T MODIFY ANYTHING IN THIS CELL THAT IS BELOW THIS LINE\n",
    "\"\"\"\n",
    "tests.test_create_lookup_tables(create_lookup_tables)"
   ]
  },
  {
   "cell_type": "markdown",
   "metadata": {},
   "source": [
    "### Tokenize Punctuation\n",
    "Punctuation makes it difficult for the neural network to deal with situations like \"bye\" and \"bye!\" so we tokenize punctuation separately from words.\n",
    "\n",
    "Implement the function `token_lookup` to return a dict that will be used to tokenize symbols like \"!\" into \"||Exclamation_Mark||\".  Create a dictionary for the following symbols where the symbol is the key and value is the token:\n",
    "- Period ( . )\n",
    "- Comma ( , )\n",
    "- Quotation Mark ( \" )\n",
    "- Semicolon ( ; )\n",
    "- Exclamation mark ( ! )\n",
    "- Question mark ( ? )\n",
    "- Left Parentheses ( ( )\n",
    "- Right Parentheses ( ) )\n",
    "- Dash ( -- )\n",
    "- Return ( \\n )\n",
    "\n",
    "This dictionary will be used to token the symbols and add the delimiter (space) around it.  This separates the symbols as it's own word, making it easier for the neural network to predict on the next word. Make sure you don't use a token that could be confused as a word. Instead of using the token \"dash\", try using something like \"||dash||\"."
   ]
  },
  {
   "cell_type": "code",
   "execution_count": 250,
   "metadata": {},
   "outputs": [
    {
     "name": "stdout",
     "output_type": "stream",
     "text": [
      "Tests Passed\n"
     ]
    }
   ],
   "source": [
    "\n",
    "def token_lookup():\n",
    "    token_dict = {\".\":\"||period||\", \",\":\"||comma||\", \";\":\"||semicolon||\", \"?\":\"||questionmark||\", \"(\":\"||leftparen||\", \")\":\"||rightparen||\", \"--\":\"||dash||\", \"\\n\":\"||return||\", '!':'||exclam||', '\"':'||quot||'}\n",
    "    # TODO: Implement Function\n",
    "    return token_dict\n",
    "\n",
    "\"\"\"\n",
    "DON'T MODIFY ANYTHING IN THIS CELL THAT IS BELOW THIS LINE\n",
    "\"\"\"\n",
    "tests.test_tokenize(token_lookup)"
   ]
  },
  {
   "cell_type": "markdown",
   "metadata": {},
   "source": [
    "## Preprocess all the data and save it\n",
    "Running the code cell below will preprocess all the data and save it to file."
   ]
  },
  {
   "cell_type": "code",
   "execution_count": 251,
   "metadata": {
    "collapsed": true
   },
   "outputs": [],
   "source": [
    "\"\"\"\n",
    "DON'T MODIFY ANYTHING IN THIS CELL\n",
    "\"\"\"\n",
    "# Preprocess Training, Validation, and Testing Data\n",
    "helper.preprocess_and_save_data(data_dir, token_lookup, create_lookup_tables)"
   ]
  },
  {
   "cell_type": "markdown",
   "metadata": {},
   "source": [
    "# Check Point\n",
    "This is your first checkpoint. If you ever decide to come back to this notebook or have to restart the notebook, you can start from here. The preprocessed data has been saved to disk."
   ]
  },
  {
   "cell_type": "code",
   "execution_count": 252,
   "metadata": {
    "collapsed": true
   },
   "outputs": [],
   "source": [
    "\"\"\"\n",
    "DON'T MODIFY ANYTHING IN THIS CELL\n",
    "\"\"\"\n",
    "import helper\n",
    "import numpy as np\n",
    "import problem_unittests as tests\n",
    "\n",
    "int_text, vocab_to_int, int_to_vocab, token_dict = helper.load_preprocess()"
   ]
  },
  {
   "cell_type": "markdown",
   "metadata": {},
   "source": [
    "## Build the Neural Network\n",
    "\n",
    "### Check the Version of TensorFlow and Access to GPU"
   ]
  },
  {
   "cell_type": "code",
   "execution_count": 253,
   "metadata": {},
   "outputs": [
    {
     "name": "stdout",
     "output_type": "stream",
     "text": [
      "TensorFlow Version: 1.0.1\n",
      "Default GPU Device: /gpu:0\n"
     ]
    }
   ],
   "source": [
    "\"\"\"\n",
    "DON'T MODIFY ANYTHING IN THIS CELL\n",
    "\"\"\"\n",
    "from distutils.version import LooseVersion\n",
    "import warnings\n",
    "import tensorflow as tf\n",
    "\n",
    "# Check TensorFlow Version\n",
    "assert LooseVersion(tf.__version__) >= LooseVersion('1.0'), 'Please use TensorFlow version 1.0 or newer'\n",
    "print('TensorFlow Version: {}'.format(tf.__version__))\n",
    "\n",
    "# Check for a GPU\n",
    "if not tf.test.gpu_device_name():\n",
    "    warnings.warn('This network will train very slowly without a GPU.')\n",
    "else:\n",
    "    print('Default GPU Device: {}'.format(tf.test.gpu_device_name()))"
   ]
  },
  {
   "cell_type": "markdown",
   "metadata": {},
   "source": [
    "### Input\n"
   ]
  },
  {
   "cell_type": "code",
   "execution_count": 254,
   "metadata": {},
   "outputs": [
    {
     "name": "stdout",
     "output_type": "stream",
     "text": [
      "Tests Passed\n"
     ]
    }
   ],
   "source": [
    "def get_inputs():\n",
    "    input = tf.placeholder(tf.int32, [None, None], name='input')\n",
    "    targets = tf.placeholder(tf.int32, [None, None], name='targets')\n",
    "    learning_rate = tf.placeholder(tf.float32, name='learning_rate') \n",
    "    \n",
    "    return input, targets, learning_rate\n",
    "\n",
    "\n",
    "\"\"\"\n",
    "DON'T MODIFY ANYTHING IN THIS CELL THAT IS BELOW THIS LINE\n",
    "\"\"\"\n",
    "tests.test_get_inputs(get_inputs)"
   ]
  },
  {
   "cell_type": "markdown",
   "metadata": {},
   "source": [
    "### Build RNN Cell and Initialize\n"
   ]
  },
  {
   "cell_type": "code",
   "execution_count": 255,
   "metadata": {},
   "outputs": [
    {
     "name": "stdout",
     "output_type": "stream",
     "text": [
      "Tests Passed\n"
     ]
    }
   ],
   "source": [
    "def get_init_cell(batch_size, rnn_size):\n",
    "\n",
    "    num_layers = 2\n",
    "    cell = tf.contrib.rnn.BasicLSTMCell(rnn_size)\n",
    "    #cell = tf.contrib.rnn.DropoutWrapper(cell, output_keep_prob=0.75)\n",
    "    cell = tf.contrib.rnn.MultiRNNCell([cell] * num_layers)\n",
    "    initial_state = cell.zero_state(batch_size, tf.float32)\n",
    "    initial_state = tf.identity(initial_state, name=\"initial_state\")\n",
    "    \n",
    "    return cell, initial_state\n",
    "\n",
    "\n",
    "\"\"\"\n",
    "DON'T MODIFY ANYTHING IN THIS CELL THAT IS BELOW THIS LINE\n",
    "\"\"\"\n",
    "tests.test_get_init_cell(get_init_cell)"
   ]
  },
  {
   "cell_type": "markdown",
   "metadata": {},
   "source": [
    "### Word Embedding\n"
   ]
  },
  {
   "cell_type": "code",
   "execution_count": 256,
   "metadata": {},
   "outputs": [
    {
     "name": "stdout",
     "output_type": "stream",
     "text": [
      "Tests Passed\n"
     ]
    }
   ],
   "source": [
    "def get_embed(input_data, vocab_size, embed_dim):\n",
    "    embedding = tf.Variable(tf.random_uniform((vocab_size, embed_dim), -1, 1))\n",
    "    embed = tf.nn.embedding_lookup(embedding, input_data)\n",
    "    return embed\n",
    "\n",
    "\n",
    "\"\"\"\n",
    "DON'T MODIFY ANYTHING IN THIS CELL THAT IS BELOW THIS LINE\n",
    "\"\"\"\n",
    "tests.test_get_embed(get_embed)"
   ]
  },
  {
   "cell_type": "markdown",
   "metadata": {},
   "source": [
    "### Build RNN\n"
   ]
  },
  {
   "cell_type": "code",
   "execution_count": 257,
   "metadata": {},
   "outputs": [
    {
     "name": "stdout",
     "output_type": "stream",
     "text": [
      "Tests Passed\n"
     ]
    }
   ],
   "source": [
    "def build_rnn(cell, inputs):\n",
    "    outputs, final_state = tf.nn.dynamic_rnn(cell, inputs, dtype=tf.float32)\n",
    "    final_state = tf.identity(final_state, name=\"final_state\")\n",
    "    return outputs, final_state\n",
    "\n",
    "\n",
    "\"\"\"\n",
    "DON'T MODIFY ANYTHING IN THIS CELL THAT IS BELOW THIS LINE\n",
    "\"\"\"\n",
    "tests.test_build_rnn(build_rnn)"
   ]
  },
  {
   "cell_type": "markdown",
   "metadata": {},
   "source": [
    "### Build the Neural Network\n"
   ]
  },
  {
   "cell_type": "code",
   "execution_count": 258,
   "metadata": {},
   "outputs": [
    {
     "name": "stdout",
     "output_type": "stream",
     "text": [
      "Tests Passed\n"
     ]
    }
   ],
   "source": [
    "def build_nn(cell, rnn_size, input_data, vocab_size, embed_dim):\n",
    "    embed = get_embed(input_data, vocab_size, rnn_size)\n",
    "    output, final_state = build_rnn(cell, embed)\n",
    "    logits = tf.contrib.layers.fully_connected(output, vocab_size, activation_fn=None)\n",
    "    return logits, final_state\n",
    "\n",
    "\n",
    "\"\"\"\n",
    "DON'T MODIFY ANYTHING IN THIS CELL THAT IS BELOW THIS LINE\n",
    "\"\"\"\n",
    "tests.test_build_nn(build_nn)"
   ]
  },
  {
   "cell_type": "markdown",
   "metadata": {},
   "source": [
    "### Batching\n"
   ]
  },
  {
   "cell_type": "code",
   "execution_count": 259,
   "metadata": {},
   "outputs": [
    {
     "name": "stdout",
     "output_type": "stream",
     "text": [
      "Tests Passed\n"
     ]
    }
   ],
   "source": [
    "def get_batches(int_text, batch_size, seq_length):\n",
    "\n",
    "    # TODO: Implement Function\n",
    "    n_batches = int(len(int_text) / (batch_size*seq_length))\n",
    "    xdata = np.array(int_text[:n_batches*batch_size*seq_length])\n",
    "    ydata = np.roll(xdata,-1)\n",
    "    xbatches = np.split(xdata.reshape(batch_size, -1), n_batches, 1)\n",
    "    ybatches = np.split(ydata.reshape(batch_size, -1), n_batches, 1)\n",
    "    \n",
    "    return np.array(list(zip(xbatches, ybatches)))\n",
    "        \n",
    "\n",
    "\n",
    "\n",
    "\n",
    "\"\"\"\n",
    "DON'T MODIFY ANYTHING IN THIS CELL THAT IS BELOW THIS LINE\n",
    "\"\"\"\n",
    "tests.test_get_batches(get_batches)"
   ]
  },
  {
   "cell_type": "markdown",
   "metadata": {},
   "source": [
    "## Neural Network Training\n",
    "### Hyperparameters\n",
    "Tune the following parameters:\n",
    "\n",
    "- Set `num_epochs` to the number of epochs.\n",
    "- Set `batch_size` to the batch size.\n",
    "- Set `rnn_size` to the size of the RNNs.\n",
    "- Set `embed_dim` to the size of the embedding. This should equal the number of unique words in the corpus.\n",
    "- Set `seq_length` to the length of sequence. This should match the length of the average sentence.\n",
    "- Set `learning_rate` to the learning rate.\n",
    "- Set `show_every_n_batches` to the number of batches the neural network should print progress."
   ]
  },
  {
   "cell_type": "code",
   "execution_count": 275,
   "metadata": {
    "collapsed": true
   },
   "outputs": [],
   "source": [
    "# Number of Epochs\n",
    "num_epochs = 300\n",
    "# Batch Size\n",
    "batch_size = 64\n",
    "# RNN Size\n",
    "rnn_size = 512\n",
    "\n",
    "# Embedding Dimension Size\n",
    "embed_dim = 5661\n",
    "# Sequence Length\n",
    "seq_length = 32\n",
    "# Learning Rate\n",
    "learning_rate = 0.001\n",
    "# Show stats for every n number of batches\n",
    "show_every_n_batches = 20\n",
    "\n",
    "\"\"\"\n",
    "DON'T MODIFY ANYTHING IN THIS CELL THAT IS BELOW THIS LINE\n",
    "\"\"\"\n",
    "save_dir = './save-dreams'"
   ]
  },
  {
   "cell_type": "markdown",
   "metadata": {},
   "source": [
    "### Build the Graph\n",
    "Build the graph using the neural network you implemented."
   ]
  },
  {
   "cell_type": "code",
   "execution_count": 276,
   "metadata": {
    "collapsed": true
   },
   "outputs": [],
   "source": [
    "\"\"\"\n",
    "DON'T MODIFY ANYTHING IN THIS CELL\n",
    "\"\"\"\n",
    "from tensorflow.contrib import seq2seq\n",
    "\n",
    "train_graph = tf.Graph()\n",
    "with train_graph.as_default():\n",
    "    vocab_size = len(int_to_vocab)\n",
    "    input_text, targets, lr = get_inputs()\n",
    "    input_data_shape = tf.shape(input_text)\n",
    "    cell, initial_state = get_init_cell(input_data_shape[0], rnn_size)\n",
    "    logits, final_state = build_nn(cell, rnn_size, input_text, vocab_size, embed_dim)\n",
    "\n",
    "    # Probabilities for generating words\n",
    "    probs = tf.nn.softmax(logits, name='probs')\n",
    "\n",
    "    # Loss function\n",
    "    cost = seq2seq.sequence_loss(\n",
    "        logits,\n",
    "        targets,\n",
    "        tf.ones([input_data_shape[0], input_data_shape[1]]))\n",
    "\n",
    "    # Optimizer\n",
    "    optimizer = tf.train.RMSPropOptimizer(lr)\n",
    "\n",
    "    # Gradient Clipping\n",
    "    gradients = optimizer.compute_gradients(cost)\n",
    "    capped_gradients = [(tf.clip_by_value(grad, -1., 1.), var) for grad, var in gradients if grad is not None]\n",
    "    train_op = optimizer.apply_gradients(capped_gradients)"
   ]
  },
  {
   "cell_type": "markdown",
   "metadata": {},
   "source": [
    "## Train\n",
    "Train the neural network on the preprocessed data.  If you have a hard time getting a good loss, check the [forums](https://discussions.udacity.com/) to see if anyone is having the same problem."
   ]
  },
  {
   "cell_type": "code",
   "execution_count": 277,
   "metadata": {},
   "outputs": [
    {
     "name": "stdout",
     "output_type": "stream",
     "text": [
      "Epoch   0 Batch    0/15   train_loss = 8.231\n",
      "Epoch   1 Batch    5/15   train_loss = 8.229\n",
      "Epoch   2 Batch   10/15   train_loss = 8.228\n",
      "Epoch   4 Batch    0/15   train_loss = 8.221\n",
      "Epoch   5 Batch    5/15   train_loss = 8.205\n",
      "Epoch   6 Batch   10/15   train_loss = 8.148\n",
      "Epoch   8 Batch    0/15   train_loss = 6.628\n",
      "Epoch   9 Batch    5/15   train_loss = 6.185\n",
      "Epoch  10 Batch   10/15   train_loss = 6.070\n",
      "Epoch  12 Batch    0/15   train_loss = 5.952\n",
      "Epoch  13 Batch    5/15   train_loss = 5.744\n",
      "Epoch  14 Batch   10/15   train_loss = 5.385\n",
      "Epoch  16 Batch    0/15   train_loss = 5.099\n",
      "Epoch  17 Batch    5/15   train_loss = 4.876\n",
      "Epoch  18 Batch   10/15   train_loss = 4.684\n",
      "Epoch  20 Batch    0/15   train_loss = 4.532\n",
      "Epoch  21 Batch    5/15   train_loss = 4.398\n",
      "Epoch  22 Batch   10/15   train_loss = 4.186\n",
      "Epoch  24 Batch    0/15   train_loss = 4.037\n",
      "Epoch  25 Batch    5/15   train_loss = 3.875\n",
      "Epoch  26 Batch   10/15   train_loss = 3.769\n",
      "Epoch  28 Batch    0/15   train_loss = 3.590\n",
      "Epoch  29 Batch    5/15   train_loss = 3.416\n",
      "Epoch  30 Batch   10/15   train_loss = 3.245\n",
      "Epoch  32 Batch    0/15   train_loss = 3.103\n",
      "Epoch  33 Batch    5/15   train_loss = 2.942\n",
      "Epoch  34 Batch   10/15   train_loss = 2.766\n",
      "Epoch  36 Batch    0/15   train_loss = 2.592\n",
      "Epoch  37 Batch    5/15   train_loss = 2.476\n",
      "Epoch  38 Batch   10/15   train_loss = 2.276\n",
      "Epoch  40 Batch    0/15   train_loss = 2.107\n",
      "Epoch  41 Batch    5/15   train_loss = 2.029\n",
      "Epoch  42 Batch   10/15   train_loss = 1.880\n",
      "Epoch  44 Batch    0/15   train_loss = 1.707\n",
      "Epoch  45 Batch    5/15   train_loss = 1.583\n",
      "Epoch  46 Batch   10/15   train_loss = 1.436\n",
      "Epoch  48 Batch    0/15   train_loss = 1.316\n",
      "Epoch  49 Batch    5/15   train_loss = 1.229\n",
      "Epoch  50 Batch   10/15   train_loss = 1.066\n",
      "Epoch  52 Batch    0/15   train_loss = 0.971\n",
      "Epoch  53 Batch    5/15   train_loss = 0.861\n",
      "Epoch  54 Batch   10/15   train_loss = 0.764\n",
      "Epoch  56 Batch    0/15   train_loss = 0.673\n",
      "Epoch  57 Batch    5/15   train_loss = 0.641\n",
      "Epoch  58 Batch   10/15   train_loss = 0.528\n",
      "Epoch  60 Batch    0/15   train_loss = 0.482\n",
      "Epoch  61 Batch    5/15   train_loss = 0.392\n",
      "Epoch  62 Batch   10/15   train_loss = 0.364\n",
      "Epoch  64 Batch    0/15   train_loss = 0.288\n",
      "Epoch  65 Batch    5/15   train_loss = 0.276\n",
      "Epoch  66 Batch   10/15   train_loss = 0.233\n",
      "Epoch  68 Batch    0/15   train_loss = 0.179\n",
      "Epoch  69 Batch    5/15   train_loss = 0.205\n",
      "Epoch  70 Batch   10/15   train_loss = 0.187\n",
      "Epoch  72 Batch    0/15   train_loss = 0.183\n",
      "Epoch  73 Batch    5/15   train_loss = 0.120\n",
      "Epoch  74 Batch   10/15   train_loss = 0.113\n",
      "Epoch  76 Batch    0/15   train_loss = 0.102\n",
      "Epoch  77 Batch    5/15   train_loss = 0.100\n",
      "Epoch  78 Batch   10/15   train_loss = 0.104\n",
      "Epoch  80 Batch    0/15   train_loss = 0.101\n",
      "Epoch  81 Batch    5/15   train_loss = 0.132\n",
      "Epoch  82 Batch   10/15   train_loss = 0.082\n",
      "Epoch  84 Batch    0/15   train_loss = 0.084\n",
      "Epoch  85 Batch    5/15   train_loss = 0.086\n",
      "Epoch  86 Batch   10/15   train_loss = 0.089\n",
      "Epoch  88 Batch    0/15   train_loss = 0.086\n",
      "Epoch  89 Batch    5/15   train_loss = 0.076\n",
      "Epoch  90 Batch   10/15   train_loss = 0.073\n",
      "Epoch  92 Batch    0/15   train_loss = 0.081\n",
      "Epoch  93 Batch    5/15   train_loss = 0.096\n",
      "Epoch  94 Batch   10/15   train_loss = 0.072\n",
      "Epoch  96 Batch    0/15   train_loss = 0.073\n",
      "Epoch  97 Batch    5/15   train_loss = 0.077\n",
      "Epoch  98 Batch   10/15   train_loss = 0.069\n",
      "Epoch 100 Batch    0/15   train_loss = 0.071\n",
      "Epoch 101 Batch    5/15   train_loss = 0.073\n",
      "Epoch 102 Batch   10/15   train_loss = 0.085\n",
      "Epoch 104 Batch    0/15   train_loss = 0.074\n",
      "Epoch 105 Batch    5/15   train_loss = 0.068\n",
      "Epoch 106 Batch   10/15   train_loss = 0.067\n",
      "Epoch 108 Batch    0/15   train_loss = 0.080\n",
      "Epoch 109 Batch    5/15   train_loss = 0.070\n",
      "Epoch 110 Batch   10/15   train_loss = 0.066\n",
      "Epoch 112 Batch    0/15   train_loss = 0.074\n",
      "Epoch 113 Batch    5/15   train_loss = 0.115\n",
      "Epoch 114 Batch   10/15   train_loss = 0.065\n",
      "Epoch 116 Batch    0/15   train_loss = 0.068\n",
      "Epoch 117 Batch    5/15   train_loss = 0.076\n",
      "Epoch 118 Batch   10/15   train_loss = 0.071\n",
      "Epoch 120 Batch    0/15   train_loss = 0.068\n",
      "Epoch 121 Batch    5/15   train_loss = 0.065\n",
      "Epoch 122 Batch   10/15   train_loss = 0.090\n",
      "Epoch 124 Batch    0/15   train_loss = 0.072\n",
      "Epoch 125 Batch    5/15   train_loss = 0.067\n",
      "Epoch 126 Batch   10/15   train_loss = 0.067\n",
      "Epoch 128 Batch    0/15   train_loss = 0.072\n",
      "Epoch 129 Batch    5/15   train_loss = 0.065\n",
      "Epoch 130 Batch   10/15   train_loss = 0.065\n",
      "Epoch 132 Batch    0/15   train_loss = 0.069\n",
      "Epoch 133 Batch    5/15   train_loss = 0.068\n",
      "Epoch 134 Batch   10/15   train_loss = 0.064\n",
      "Epoch 136 Batch    0/15   train_loss = 0.068\n",
      "Epoch 137 Batch    5/15   train_loss = 0.063\n",
      "Epoch 138 Batch   10/15   train_loss = 0.073\n",
      "Epoch 140 Batch    0/15   train_loss = 0.066\n",
      "Epoch 141 Batch    5/15   train_loss = 0.063\n",
      "Epoch 142 Batch   10/15   train_loss = 0.063\n",
      "Epoch 144 Batch    0/15   train_loss = 0.068\n",
      "Epoch 145 Batch    5/15   train_loss = 0.063\n",
      "Epoch 146 Batch   10/15   train_loss = 0.069\n",
      "Epoch 148 Batch    0/15   train_loss = 0.068\n",
      "Epoch 149 Batch    5/15   train_loss = 0.063\n",
      "Epoch 150 Batch   10/15   train_loss = 0.062\n",
      "Epoch 152 Batch    0/15   train_loss = 0.067\n",
      "Epoch 153 Batch    5/15   train_loss = 0.065\n",
      "Epoch 154 Batch   10/15   train_loss = 0.067\n",
      "Epoch 156 Batch    0/15   train_loss = 0.069\n",
      "Epoch 157 Batch    5/15   train_loss = 0.063\n",
      "Epoch 158 Batch   10/15   train_loss = 0.061\n",
      "Epoch 160 Batch    0/15   train_loss = 0.065\n",
      "Epoch 161 Batch    5/15   train_loss = 0.061\n",
      "Epoch 162 Batch   10/15   train_loss = 0.068\n",
      "Epoch 164 Batch    0/15   train_loss = 0.067\n",
      "Epoch 165 Batch    5/15   train_loss = 0.062\n",
      "Epoch 166 Batch   10/15   train_loss = 0.065\n",
      "Epoch 168 Batch    0/15   train_loss = 0.068\n",
      "Epoch 169 Batch    5/15   train_loss = 0.062\n",
      "Epoch 170 Batch   10/15   train_loss = 0.060\n",
      "Epoch 172 Batch    0/15   train_loss = 0.066\n",
      "Epoch 173 Batch    5/15   train_loss = 0.062\n",
      "Epoch 174 Batch   10/15   train_loss = 0.060\n",
      "Epoch 176 Batch    0/15   train_loss = 0.064\n",
      "Epoch 177 Batch    5/15   train_loss = 0.068\n",
      "Epoch 178 Batch   10/15   train_loss = 0.060\n",
      "Epoch 180 Batch    0/15   train_loss = 0.064\n",
      "Epoch 181 Batch    5/15   train_loss = 0.066\n",
      "Epoch 182 Batch   10/15   train_loss = 0.063\n",
      "Epoch 184 Batch    0/15   train_loss = 0.064\n",
      "Epoch 185 Batch    5/15   train_loss = 0.060\n",
      "Epoch 186 Batch   10/15   train_loss = 0.061\n",
      "Epoch 188 Batch    0/15   train_loss = 0.067\n",
      "Epoch 189 Batch    5/15   train_loss = 0.060\n",
      "Epoch 190 Batch   10/15   train_loss = 0.061\n",
      "Epoch 192 Batch    0/15   train_loss = 0.064\n",
      "Epoch 193 Batch    5/15   train_loss = 0.063\n",
      "Epoch 194 Batch   10/15   train_loss = 0.059\n",
      "Epoch 196 Batch    0/15   train_loss = 0.065\n",
      "Epoch 197 Batch    5/15   train_loss = 0.071\n",
      "Epoch 198 Batch   10/15   train_loss = 0.061\n",
      "Epoch 200 Batch    0/15   train_loss = 0.064\n",
      "Epoch 201 Batch    5/15   train_loss = 0.062\n",
      "Epoch 202 Batch   10/15   train_loss = 0.063\n",
      "Epoch 204 Batch    0/15   train_loss = 0.064\n",
      "Epoch 205 Batch    5/15   train_loss = 0.063\n",
      "Epoch 206 Batch   10/15   train_loss = 0.059\n",
      "Epoch 208 Batch    0/15   train_loss = 0.064\n",
      "Epoch 209 Batch    5/15   train_loss = 0.066\n",
      "Epoch 210 Batch   10/15   train_loss = 0.060\n",
      "Epoch 212 Batch    0/15   train_loss = 0.064\n",
      "Epoch 213 Batch    5/15   train_loss = 0.060\n",
      "Epoch 214 Batch   10/15   train_loss = 0.065\n",
      "Epoch 216 Batch    0/15   train_loss = 0.065\n",
      "Epoch 217 Batch    5/15   train_loss = 0.063\n",
      "Epoch 218 Batch   10/15   train_loss = 0.061\n",
      "Epoch 220 Batch    0/15   train_loss = 0.071\n",
      "Epoch 221 Batch    5/15   train_loss = 0.061\n",
      "Epoch 222 Batch   10/15   train_loss = 0.059\n",
      "Epoch 224 Batch    0/15   train_loss = 0.064\n",
      "Epoch 225 Batch    5/15   train_loss = 0.068\n",
      "Epoch 226 Batch   10/15   train_loss = 0.061\n",
      "Epoch 228 Batch    0/15   train_loss = 0.063\n",
      "Epoch 229 Batch    5/15   train_loss = 0.060\n",
      "Epoch 230 Batch   10/15   train_loss = 0.060\n",
      "Epoch 232 Batch    0/15   train_loss = 0.064\n",
      "Epoch 233 Batch    5/15   train_loss = 0.063\n",
      "Epoch 234 Batch   10/15   train_loss = 0.059\n",
      "Epoch 236 Batch    0/15   train_loss = 0.063\n",
      "Epoch 237 Batch    5/15   train_loss = 0.061\n",
      "Epoch 238 Batch   10/15   train_loss = 0.059\n",
      "Epoch 240 Batch    0/15   train_loss = 0.063\n",
      "Epoch 241 Batch    5/15   train_loss = 0.068\n",
      "Epoch 242 Batch   10/15   train_loss = 0.060\n"
     ]
    },
    {
     "name": "stdout",
     "output_type": "stream",
     "text": [
      "Epoch 244 Batch    0/15   train_loss = 0.079\n",
      "Epoch 245 Batch    5/15   train_loss = 0.060\n",
      "Epoch 246 Batch   10/15   train_loss = 0.058\n",
      "Epoch 248 Batch    0/15   train_loss = 0.064\n",
      "Epoch 249 Batch    5/15   train_loss = 0.062\n",
      "Epoch 250 Batch   10/15   train_loss = 0.059\n",
      "Epoch 252 Batch    0/15   train_loss = 0.064\n",
      "Epoch 253 Batch    5/15   train_loss = 0.060\n",
      "Epoch 254 Batch   10/15   train_loss = 0.058\n",
      "Epoch 256 Batch    0/15   train_loss = 0.066\n",
      "Epoch 257 Batch    5/15   train_loss = 0.061\n",
      "Epoch 258 Batch   10/15   train_loss = 0.062\n",
      "Epoch 260 Batch    0/15   train_loss = 0.064\n",
      "Epoch 261 Batch    5/15   train_loss = 0.059\n",
      "Epoch 262 Batch   10/15   train_loss = 0.060\n",
      "Epoch 264 Batch    0/15   train_loss = 0.063\n",
      "Epoch 265 Batch    5/15   train_loss = 0.060\n",
      "Epoch 266 Batch   10/15   train_loss = 0.062\n",
      "Epoch 268 Batch    0/15   train_loss = 0.064\n",
      "Epoch 269 Batch    5/15   train_loss = 0.061\n",
      "Epoch 270 Batch   10/15   train_loss = 0.058\n",
      "Epoch 272 Batch    0/15   train_loss = 0.063\n",
      "Epoch 273 Batch    5/15   train_loss = 0.060\n",
      "Epoch 274 Batch   10/15   train_loss = 0.058\n",
      "Epoch 276 Batch    0/15   train_loss = 0.063\n",
      "Epoch 277 Batch    5/15   train_loss = 0.060\n",
      "Epoch 278 Batch   10/15   train_loss = 0.058\n",
      "Epoch 280 Batch    0/15   train_loss = 0.063\n",
      "Epoch 281 Batch    5/15   train_loss = 0.059\n",
      "Epoch 282 Batch   10/15   train_loss = 0.058\n",
      "Epoch 284 Batch    0/15   train_loss = 0.063\n",
      "Epoch 285 Batch    5/15   train_loss = 0.059\n",
      "Epoch 286 Batch   10/15   train_loss = 0.058\n",
      "Epoch 288 Batch    0/15   train_loss = 0.062\n",
      "Epoch 289 Batch    5/15   train_loss = 0.059\n",
      "Epoch 290 Batch   10/15   train_loss = 0.058\n",
      "Epoch 292 Batch    0/15   train_loss = 0.062\n",
      "Epoch 293 Batch    5/15   train_loss = 0.059\n",
      "Epoch 294 Batch   10/15   train_loss = 0.058\n",
      "Epoch 296 Batch    0/15   train_loss = 0.062\n",
      "Epoch 297 Batch    5/15   train_loss = 0.059\n",
      "Epoch 298 Batch   10/15   train_loss = 0.058\n",
      "Model Trained and Saved\n"
     ]
    }
   ],
   "source": [
    "\"\"\"\n",
    "DON'T MODIFY ANYTHING IN THIS CELL\n",
    "\"\"\"\n",
    "batches = get_batches(int_text, batch_size, seq_length)\n",
    "\n",
    "with tf.Session(graph=train_graph) as sess:\n",
    "    sess.run(tf.global_variables_initializer())\n",
    "\n",
    "    for epoch_i in range(num_epochs):\n",
    "        state = sess.run(initial_state, {input_text: batches[0][0]})\n",
    "\n",
    "        for batch_i, (x, y) in enumerate(batches):\n",
    "            feed = {\n",
    "                input_text: x,\n",
    "                targets: y,\n",
    "                initial_state: state,\n",
    "                lr: learning_rate}\n",
    "            train_loss, state, _ = sess.run([cost, final_state, train_op], feed)\n",
    "\n",
    "            # Show every <show_every_n_batches> batches\n",
    "            if (epoch_i * len(batches) + batch_i) % show_every_n_batches == 0:\n",
    "                print('Epoch {:>3} Batch {:>4}/{}   train_loss = {:.3f}'.format(\n",
    "                    epoch_i,\n",
    "                    batch_i,\n",
    "                    len(batches),\n",
    "                    train_loss))\n",
    "\n",
    "    # Save Model\n",
    "    saver = tf.train.Saver()\n",
    "    saver.save(sess, save_dir)\n",
    "    print('Model Trained and Saved')"
   ]
  },
  {
   "cell_type": "markdown",
   "metadata": {},
   "source": [
    "## Save Parameters\n",
    "Save `seq_length` and `save_dir` for generating a new dream."
   ]
  },
  {
   "cell_type": "code",
   "execution_count": 278,
   "metadata": {
    "collapsed": true
   },
   "outputs": [],
   "source": [
    "\"\"\"\n",
    "DON'T MODIFY ANYTHING IN THIS CELL\n",
    "\"\"\"\n",
    "# Save parameters for checkpoint\n",
    "helper.save_params((seq_length, save_dir))"
   ]
  },
  {
   "cell_type": "markdown",
   "metadata": {},
   "source": [
    "# Checkpoint"
   ]
  },
  {
   "cell_type": "code",
   "execution_count": 279,
   "metadata": {
    "collapsed": true
   },
   "outputs": [],
   "source": [
    "\"\"\"\n",
    "DON'T MODIFY ANYTHING IN THIS CELL\n",
    "\"\"\"\n",
    "import tensorflow as tf\n",
    "import numpy as np\n",
    "import helper\n",
    "import problem_unittests as tests\n",
    "\n",
    "_, vocab_to_int, int_to_vocab, token_dict = helper.load_preprocess()\n",
    "seq_length, load_dir = helper.load_params()"
   ]
  },
  {
   "cell_type": "markdown",
   "metadata": {},
   "source": [
    "## Implement Generate Functions\n",
    "### Get Tensors\n",
    "Get tensors from `loaded_graph` using the function [`get_tensor_by_name()`](https://www.tensorflow.org/api_docs/python/tf/Graph#get_tensor_by_name).  Get the tensors using the following names:\n",
    "- \"input:0\"\n",
    "- \"initial_state:0\"\n",
    "- \"final_state:0\"\n",
    "- \"probs:0\"\n",
    "\n",
    "Return the tensors in the following tuple `(InputTensor, InitialStateTensor, FinalStateTensor, ProbsTensor)` "
   ]
  },
  {
   "cell_type": "code",
   "execution_count": 280,
   "metadata": {},
   "outputs": [
    {
     "name": "stdout",
     "output_type": "stream",
     "text": [
      "Tests Passed\n"
     ]
    }
   ],
   "source": [
    "def get_tensors(loaded_graph):\n",
    "    \"\"\"\n",
    "    Get input, initial state, final state, and probabilities tensor from <loaded_graph>\n",
    "    :param loaded_graph: TensorFlow graph loaded from file\n",
    "    :return: Tuple (InputTensor, InitialStateTensor, FinalStateTensor, ProbsTensor)\n",
    "    \"\"\"\n",
    "    input = loaded_graph.get_tensor_by_name('input:0')\n",
    "    initial_state = loaded_graph.get_tensor_by_name('initial_state:0')\n",
    "    final_state = loaded_graph.get_tensor_by_name('final_state:0')\n",
    "    probs = loaded_graph.get_tensor_by_name('probs:0')\n",
    "    \n",
    "    return input, initial_state, final_state, probs\n",
    "\n",
    "\n",
    "\"\"\"\n",
    "DON'T MODIFY ANYTHING IN THIS CELL THAT IS BELOW THIS LINE\n",
    "\"\"\"\n",
    "tests.test_get_tensors(get_tensors)"
   ]
  },
  {
   "cell_type": "markdown",
   "metadata": {},
   "source": [
    "### Choose Word\n",
    "Implement the `pick_word()` function to select the next word using `probabilities`."
   ]
  },
  {
   "cell_type": "code",
   "execution_count": 281,
   "metadata": {},
   "outputs": [
    {
     "name": "stdout",
     "output_type": "stream",
     "text": [
      "Tests Passed\n"
     ]
    }
   ],
   "source": [
    "def pick_word(probabilities, int_to_vocab):\n",
    "    \"\"\"\n",
    "    Pick the next word in the generated text\n",
    "    :param probabilities: Probabilites of the next word\n",
    "    :param int_to_vocab: Dictionary of word ids as the keys and words as the values\n",
    "    :return: String of the predicted word\n",
    "    \"\"\"\n",
    "    # TODO: Implement Function\n",
    "    idx = np.random.choice(len(int_to_vocab),p=probabilities)\n",
    "    return int_to_vocab[idx]\n",
    "\n",
    "\n",
    "\"\"\"\n",
    "DON'T MODIFY ANYTHING IN THIS CELL THAT IS BELOW THIS LINE\n",
    "\"\"\"\n",
    "tests.test_pick_word(pick_word)"
   ]
  },
  {
   "cell_type": "markdown",
   "metadata": {},
   "source": [
    "## Generate Dream\n",
    "\n",
    "Set `gen_length` to the length of dream desired (in words).\n",
    "Set `prime_word` to any word that exists in the embedding in order to start the text."
   ]
  },
  {
   "cell_type": "code",
   "execution_count": 313,
   "metadata": {
    "scrolled": true
   },
   "outputs": [
    {
     "name": "stdout",
     "output_type": "stream",
     "text": [
      "dream where(colin?) calls me\n"
     ]
    }
   ],
   "source": [
    "gen_length = 7\n",
    "# this word \n",
    "prime_word = \"dream\"\n",
    "\"\"\"\n",
    "DON'T MODIFY ANYTHING IN THIS CELL THAT IS BELOW THIS LINE\n",
    "\"\"\"\n",
    "loaded_graph = tf.Graph()\n",
    "with tf.Session(graph=loaded_graph) as sess:\n",
    "    # Load saved model\n",
    "    loader = tf.train.import_meta_graph(load_dir + '.meta')\n",
    "    loader.restore(sess, load_dir)\n",
    "\n",
    "    # Get Tensors from loaded model\n",
    "    input_text, initial_state, final_state, probs = get_tensors(loaded_graph)\n",
    "\n",
    "    # Sentences generation setup\n",
    "    gen_sentences = [prime_word]\n",
    "    prev_state = sess.run(initial_state, {input_text: np.array([[1]])})\n",
    "\n",
    "    # Generate sentences\n",
    "    for n in range(gen_length):\n",
    "        # Dynamic Input\n",
    "        dyn_input = [[vocab_to_int[word] for word in gen_sentences[-seq_length:]]]\n",
    "        dyn_seq_length = len(dyn_input[0])\n",
    "\n",
    "        # Get Prediction\n",
    "        probabilities, prev_state = sess.run(\n",
    "            [probs, final_state],\n",
    "            {input_text: dyn_input, initial_state: prev_state})\n",
    "        \n",
    "        pred_word = pick_word(probabilities[dyn_seq_length-1], int_to_vocab)\n",
    "\n",
    "        gen_sentences.append(pred_word)\n",
    "    \n",
    "    # Remove tokens\n",
    "    dream = ' '.join(gen_sentences)\n",
    "    for key, token in token_dict.items():\n",
    "        ending = ' ' if key in ['\\n', '(', '\"'] else ''\n",
    "        dream = dream.replace(' ' + token.lower(), key)\n",
    "    dream = dream.replace('\\n ', '\\n')\n",
    "    dream = dream.replace('( ', '(')\n",
    "\n",
    "        \n",
    "    print(dream)"
   ]
  },
  {
   "cell_type": "markdown",
   "metadata": {},
   "source": [
    "# The Dream Doesn't Make Sense\n",
    "Do Dreams ever make sense?"
   ]
  },
  {
   "cell_type": "code",
   "execution_count": null,
   "metadata": {
    "collapsed": true
   },
   "outputs": [],
   "source": []
  }
 ],
 "metadata": {
  "kernelspec": {
   "display_name": "Python 3",
   "language": "python",
   "name": "python3"
  },
  "language_info": {
   "codemirror_mode": {
    "name": "ipython",
    "version": 3
   },
   "file_extension": ".py",
   "mimetype": "text/x-python",
   "name": "python",
   "nbconvert_exporter": "python",
   "pygments_lexer": "ipython3",
   "version": "3.5.3"
  },
  "widgets": {
   "state": {},
   "version": "1.1.2"
  }
 },
 "nbformat": 4,
 "nbformat_minor": 1
}
