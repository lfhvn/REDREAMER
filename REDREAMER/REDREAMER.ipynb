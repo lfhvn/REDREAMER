{
 "cells": [
  {
   "cell_type": "markdown",
   "metadata": {},
   "source": [
    "# REDREAMER\n",
    "This project generates novel dreams based on a corpus of dreams."
   ]
  },
  {
   "cell_type": "code",
   "execution_count": 35,
   "metadata": {
    "collapsed": true
   },
   "outputs": [],
   "source": [
    "\"\"\"\n",
    "DON'T MODIFY ANYTHING IN THIS CELL\n",
    "\"\"\"\n",
    "import helper\n",
    "\n",
    "data_dir = './data/dreams1.txt'\n",
    "text = helper.load_data(data_dir)\n",
    "# Ignore notice, since we don't use it for analysing the data\n",
    "text = text[0:]"
   ]
  },
  {
   "cell_type": "markdown",
   "metadata": {},
   "source": [
    "## Explore the Data\n",
    "Play around with `view_sentence_range` to view different parts of the data."
   ]
  },
  {
   "cell_type": "code",
   "execution_count": 95,
   "metadata": {},
   "outputs": [
    {
     "name": "stdout",
     "output_type": "stream",
     "text": [
      "Dataset Stats\n",
      "Roughly the number of unique words: 5309\n",
      "Number of scenes: 254\n",
      "Average number of sentences in each scene: 1.8425196850393701\n",
      "Number of lines: 722\n",
      "Average number of words in each line: 38.692520775623265\n",
      "\n",
      "The sentences 73 to 83:\n",
      "Cult leader, fights with his followers, one leaves, and goes to bexyng? (Beijing)\n",
      "\n",
      "\n",
      "The cult leader and his first officer quarrel. They are also lovers.\n",
      "\n",
      "\n",
      "They call each other characters from movies and popular culture and literature to prove points. The leader calls the second “Smithers” to indicate that he’s overstepping his bounds. \n",
      "\n",
      "\n",
      "Outrunning bears in cars?\n"
     ]
    }
   ],
   "source": [
    "view_sentence_range = (73, 83)\n",
    "\n",
    "\"\"\"\n",
    "DON'T MODIFY ANYTHING IN THIS CELL\n",
    "\"\"\"\n",
    "import numpy as np\n",
    "\n",
    "print('Dataset Stats')\n",
    "embedding_dim = len({word: None for word in text.split()})\n",
    "print('Roughly the number of unique words: {}'.format(len({word: None for word in text.split()})))\n",
    "scenes = text.split('\\n\\n')\n",
    "print('Number of scenes: {}'.format(len(scenes)))\n",
    "sentence_count_scene = [scene.count('\\n') for scene in scenes]\n",
    "print('Average number of sentences in each scene: {}'.format(np.average(sentence_count_scene)))\n",
    "\n",
    "sentences = [sentence for scene in scenes for sentence in scene.split('\\n')]\n",
    "print('Number of lines: {}'.format(len(sentences)))\n",
    "word_count_sentence = [len(sentence.split()) for sentence in sentences]\n",
    "print('Average number of words in each line: {}'.format(np.average(word_count_sentence)))\n",
    "\n",
    "print()\n",
    "print('The sentences {} to {}:'.format(*view_sentence_range))\n",
    "print('\\n'.join(text.split('\\n')[view_sentence_range[0]:view_sentence_range[1]]))"
   ]
  },
  {
   "cell_type": "markdown",
   "metadata": {},
   "source": [
    "## Implement Preprocessing Functions\n",
    "The first thing to do to any dataset is preprocessing.  Implement the following preprocessing functions below:\n",
    "- Lookup Table\n",
    "- Tokenize Punctuation\n",
    "\n",
    "### Lookup Table\n",
    "To create a word embedding, you first need to transform the words to ids.  In this function, create two dictionaries:\n",
    "- Dictionary to go from the words to an id, we'll call `vocab_to_int`\n",
    "- Dictionary to go from the id to word, we'll call `int_to_vocab`\n",
    "\n",
    "Return these dictionaries in the following tuple `(vocab_to_int, int_to_vocab)`"
   ]
  },
  {
   "cell_type": "code",
   "execution_count": 37,
   "metadata": {},
   "outputs": [],
   "source": [
    "import numpy as np\n",
    "import problem_unittests as tests\n",
    "from collections import Counter\n",
    "import tensorflow as tf\n",
    "\n",
    "# Create Word Embeddings\n",
    "def create_lookup_tables(text):\n",
    "    vocab_to_int = {}\n",
    "    int_to_vocab = {}\n",
    "    for i, word in enumerate(set(text)):\n",
    "        vocab_to_int[word] = i\n",
    "        int_to_vocab[i] = word\n",
    "    return vocab_to_int, int_to_vocab\n",
    "\n",
    "# Tokenize Punctuation\n",
    "def token_lookup():\n",
    "    token_dict = {\".\":\"||period||\", \",\":\"||comma||\", \";\":\"||semicolon||\", \"?\":\"||questionmark||\", \"(\":\"||leftparen||\", \")\":\"||rightparen||\", \"--\":\"||dash||\", \"\\n\":\"||return||\", '!':'||exclam||', '\"':'||quot||'}\n",
    "    # TODO: Implement Function\n",
    "    return token_dict\n",
    "\n",
    "# Preprocess Training, Validation, and Testing Data\n",
    "\n",
    "helper.preprocess_and_save_data(data_dir, token_lookup, create_lookup_tables)\n"
   ]
  },
  {
   "cell_type": "markdown",
   "metadata": {},
   "source": [
    "# Check Point\n",
    "This is your first checkpoint. If you ever decide to come back to this notebook or have to restart the notebook, you can start from here. The preprocessed data has been saved to disk."
   ]
  },
  {
   "cell_type": "code",
   "execution_count": 38,
   "metadata": {
    "collapsed": true
   },
   "outputs": [],
   "source": [
    "\"\"\"\n",
    "DON'T MODIFY ANYTHING IN THIS CELL\n",
    "\"\"\"\n",
    "import helper\n",
    "import numpy as np\n",
    "\n",
    "int_text, vocab_to_int, int_to_vocab, token_dict = helper.load_preprocess()"
   ]
  },
  {
   "cell_type": "markdown",
   "metadata": {},
   "source": [
    "## Build the Neural Network\n",
    "\n",
    "### Check the Version of TensorFlow and Access to GPU"
   ]
  },
  {
   "cell_type": "code",
   "execution_count": 39,
   "metadata": {},
   "outputs": [
    {
     "name": "stdout",
     "output_type": "stream",
     "text": [
      "TensorFlow Version: 1.0.1\n",
      "Default GPU Device: /gpu:0\n"
     ]
    }
   ],
   "source": [
    "\"\"\"\n",
    "DON'T MODIFY ANYTHING IN THIS CELL\n",
    "\"\"\"\n",
    "from distutils.version import LooseVersion\n",
    "import warnings\n",
    "import tensorflow as tf\n",
    "\n",
    "# Check TensorFlow Version\n",
    "assert LooseVersion(tf.__version__) >= LooseVersion('1.0'), 'Please use TensorFlow version 1.0 or newer'\n",
    "print('TensorFlow Version: {}'.format(tf.__version__))\n",
    "\n",
    "# Check for a GPU\n",
    "if not tf.test.gpu_device_name():\n",
    "    warnings.warn('This network will train very slowly without a GPU.')\n",
    "else:\n",
    "    print('Default GPU Device: {}'.format(tf.test.gpu_device_name()))"
   ]
  },
  {
   "cell_type": "markdown",
   "metadata": {},
   "source": [
    "### Building the Recurrent Neural Network\n"
   ]
  },
  {
   "cell_type": "code",
   "execution_count": 40,
   "metadata": {},
   "outputs": [],
   "source": [
    "def get_inputs():\n",
    "    input = tf.placeholder(tf.int32, [None, None], name='input')\n",
    "    targets = tf.placeholder(tf.int32, [None, None], name='targets')\n",
    "    learning_rate = tf.placeholder(tf.float32, name='learning_rate') \n",
    "    return input, targets, learning_rate\n",
    "\n",
    "# Build RNN and initialize\n",
    "def get_init_cell(batch_size, rnn_size):\n",
    "    \n",
    "    #2-3 layers seems to work best\n",
    "    num_layers = 2\n",
    "    cell = tf.contrib.rnn.BasicLSTMCell(rnn_size)\n",
    "    \n",
    "    #dropout doesn't seem to improve the accuracy on relatively small datasets, but it's here to play with.\n",
    "    #cell = tf.contrib.rnn.DropoutWrapper(cell, output_keep_prob=0.75)\n",
    "    \n",
    "    cell = tf.contrib.rnn.MultiRNNCell([cell] * num_layers)\n",
    "    initial_state = cell.zero_state(batch_size, tf.float32)\n",
    "    initial_state = tf.identity(initial_state, name=\"initial_state\")\n",
    "    return cell, initial_state\n",
    "\n",
    "# Get Word Embeddings\n",
    "def get_embed(input_data, vocab_size, embed_dim):\n",
    "    embedding = tf.Variable(tf.random_uniform((vocab_size, embed_dim), -1, 1))\n",
    "    embed = tf.nn.embedding_lookup(embedding, input_data)\n",
    "    return embed\n",
    "\n",
    "# Build Recurrent Neural Network\n",
    "def build_rnn(cell, inputs):\n",
    "    outputs, final_state = tf.nn.dynamic_rnn(cell, inputs, dtype=tf.float32)\n",
    "    final_state = tf.identity(final_state, name=\"final_state\")\n",
    "    return outputs, final_state\n",
    "\n",
    "# Build Neural Network\n",
    "def build_nn(cell, rnn_size, input_data, vocab_size, embed_dim):\n",
    "    embed = get_embed(input_data, vocab_size, rnn_size)\n",
    "    output, final_state = build_rnn(cell, embed)\n",
    "    logits = tf.contrib.layers.fully_connected(output, vocab_size, activation_fn=None)\n",
    "    return logits, final_state\n",
    "\n",
    "# Batching\n",
    "def get_batches(int_text, batch_size, seq_length):\n",
    "\n",
    "    # TODO: Implement Function\n",
    "    n_batches = int(len(int_text) / (batch_size*seq_length))\n",
    "    xdata = np.array(int_text[:n_batches*batch_size*seq_length])\n",
    "    ydata = np.roll(xdata,-1)\n",
    "    xbatches = np.split(xdata.reshape(batch_size, -1), n_batches, 1)\n",
    "    ybatches = np.split(ydata.reshape(batch_size, -1), n_batches, 1)\n",
    "    \n",
    "    return np.array(list(zip(xbatches, ybatches)))\n"
   ]
  },
  {
   "cell_type": "markdown",
   "metadata": {},
   "source": [
    "## Neural Network Training\n",
    "### Hyperparameters\n",
    "Tune the following parameters:\n",
    "\n",
    "- Set `num_epochs` to the number of epochs.\n",
    "- Set `batch_size` to the batch size.\n",
    "- Set `rnn_size` to the size of the RNNs.\n",
    "- Set `embed_dim` to the size of the embedding. This should equal the number of unique words in the corpus.\n",
    "- Set `seq_length` to the length of sequence. This should match the length of the average sentence.\n",
    "- Set `learning_rate` to the learning rate.\n",
    "- Set `show_every_n_batches` to the number of batches the neural network should print progress."
   ]
  },
  {
   "cell_type": "code",
   "execution_count": 63,
   "metadata": {
    "collapsed": true
   },
   "outputs": [],
   "source": [
    "# Number of Epochs\n",
    "num_epochs = 200\n",
    "# Batch Size\n",
    "batch_size = 64\n",
    "# RNN Size\n",
    "rnn_size = 512\n",
    "\n",
    "# Embedding Dimension Size\n",
    "embed_dim = 5309\n",
    "# Sequence Length\n",
    "seq_length = 32\n",
    "# Learning Rate\n",
    "learning_rate = 0.001\n",
    "# Show stats for every n number of batches\n",
    "show_every_n_batches = 20\n",
    "\n",
    "\"\"\"\n",
    "DON'T MODIFY ANYTHING IN THIS CELL THAT IS BELOW THIS LINE\n",
    "\"\"\"\n",
    "save_dir = './save-dreams'"
   ]
  },
  {
   "cell_type": "markdown",
   "metadata": {},
   "source": [
    "### Build the Graph\n",
    "Build the graph using the neural network you implemented."
   ]
  },
  {
   "cell_type": "code",
   "execution_count": 74,
   "metadata": {},
   "outputs": [],
   "source": [
    "\"\"\"\n",
    "DON'T MODIFY ANYTHING IN THIS CELL\n",
    "\"\"\"\n",
    "from tensorflow.contrib import seq2seq\n",
    "\n",
    "train_graph = tf.Graph()\n",
    "with train_graph.as_default():\n",
    "    vocab_size = len(int_to_vocab)\n",
    "    input_text, targets, lr = get_inputs()\n",
    "    input_data_shape = tf.shape(input_text)\n",
    "    cell, initial_state = get_init_cell(input_data_shape[0], rnn_size)\n",
    "    logits, final_state = build_nn(cell, rnn_size, input_text, vocab_size, embed_dim)\n",
    "\n",
    "    # Probabilities for generating words\n",
    "    # Try different activation functions if you'd like.  \n",
    "    probs = tf.nn.softmax(logits, name='probs')\n",
    "\n",
    "    # Loss function\n",
    "    cost = seq2seq.sequence_loss(\n",
    "        logits,\n",
    "        targets,\n",
    "        tf.ones([input_data_shape[0], input_data_shape[1]]))\n",
    "\n",
    "    # Optimizer\n",
    "    # Try different optimizers if you like. Adam also works well.\n",
    "    optimizer = tf.train.RMSPropOptimizer(lr)\n",
    "\n",
    "    # Gradient Clipping\n",
    "    gradients = optimizer.compute_gradients(cost)\n",
    "    capped_gradients = [(tf.clip_by_value(grad, -1., 1.), var) for grad, var in gradients if grad is not None]\n",
    "    train_op = optimizer.apply_gradients(capped_gradients)"
   ]
  },
  {
   "cell_type": "markdown",
   "metadata": {},
   "source": [
    "## Train\n",
    "Train the neural network on the preprocessed data."
   ]
  },
  {
   "cell_type": "code",
   "execution_count": 75,
   "metadata": {},
   "outputs": [
    {
     "name": "stdout",
     "output_type": "stream",
     "text": [
      "Epoch   0 Batch    0/15   train_loss = 8.229\n",
      "Epoch   1 Batch    5/15   train_loss = 8.228\n",
      "Epoch   2 Batch   10/15   train_loss = 8.227\n",
      "Epoch   4 Batch    0/15   train_loss = 8.219\n",
      "Epoch   5 Batch    5/15   train_loss = 8.205\n",
      "Epoch   6 Batch   10/15   train_loss = 8.143\n",
      "Epoch   8 Batch    0/15   train_loss = 6.597\n",
      "Epoch   9 Batch    5/15   train_loss = 6.211\n",
      "Epoch  10 Batch   10/15   train_loss = 6.097\n",
      "Epoch  12 Batch    0/15   train_loss = 5.940\n",
      "Epoch  13 Batch    5/15   train_loss = 5.723\n",
      "Epoch  14 Batch   10/15   train_loss = 5.405\n",
      "Epoch  16 Batch    0/15   train_loss = 5.088\n",
      "Epoch  17 Batch    5/15   train_loss = 4.901\n",
      "Epoch  18 Batch   10/15   train_loss = 4.696\n",
      "Epoch  20 Batch    0/15   train_loss = 4.506\n",
      "Epoch  21 Batch    5/15   train_loss = 4.372\n",
      "Epoch  22 Batch   10/15   train_loss = 4.196\n",
      "Epoch  24 Batch    0/15   train_loss = 4.029\n",
      "Epoch  25 Batch    5/15   train_loss = 3.909\n",
      "Epoch  26 Batch   10/15   train_loss = 3.777\n",
      "Epoch  28 Batch    0/15   train_loss = 3.612\n",
      "Epoch  29 Batch    5/15   train_loss = 3.484\n",
      "Epoch  30 Batch   10/15   train_loss = 3.282\n",
      "Epoch  32 Batch    0/15   train_loss = 3.135\n",
      "Epoch  33 Batch    5/15   train_loss = 2.959\n",
      "Epoch  34 Batch   10/15   train_loss = 2.844\n",
      "Epoch  36 Batch    0/15   train_loss = 2.661\n",
      "Epoch  37 Batch    5/15   train_loss = 2.516\n",
      "Epoch  38 Batch   10/15   train_loss = 2.392\n",
      "Epoch  40 Batch    0/15   train_loss = 2.216\n",
      "Epoch  41 Batch    5/15   train_loss = 2.052\n",
      "Epoch  42 Batch   10/15   train_loss = 1.907\n",
      "Epoch  44 Batch    0/15   train_loss = 1.750\n",
      "Epoch  45 Batch    5/15   train_loss = 1.635\n",
      "Epoch  46 Batch   10/15   train_loss = 1.532\n",
      "Epoch  48 Batch    0/15   train_loss = 1.379\n",
      "Epoch  49 Batch    5/15   train_loss = 1.239\n",
      "Epoch  50 Batch   10/15   train_loss = 1.130\n",
      "Epoch  52 Batch    0/15   train_loss = 0.979\n",
      "Epoch  53 Batch    5/15   train_loss = 0.901\n",
      "Epoch  54 Batch   10/15   train_loss = 0.818\n",
      "Epoch  56 Batch    0/15   train_loss = 0.746\n",
      "Epoch  57 Batch    5/15   train_loss = 0.629\n",
      "Epoch  58 Batch   10/15   train_loss = 0.564\n",
      "Epoch  60 Batch    0/15   train_loss = 0.478\n",
      "Epoch  61 Batch    5/15   train_loss = 0.420\n",
      "Epoch  62 Batch   10/15   train_loss = 0.375\n",
      "Epoch  64 Batch    0/15   train_loss = 0.375\n",
      "Epoch  65 Batch    5/15   train_loss = 0.248\n",
      "Epoch  66 Batch   10/15   train_loss = 0.250\n",
      "Epoch  68 Batch    0/15   train_loss = 0.217\n",
      "Epoch  69 Batch    5/15   train_loss = 0.166\n",
      "Epoch  70 Batch   10/15   train_loss = 0.257\n",
      "Epoch  72 Batch    0/15   train_loss = 0.159\n",
      "Epoch  73 Batch    5/15   train_loss = 0.121\n",
      "Epoch  74 Batch   10/15   train_loss = 0.126\n",
      "Epoch  76 Batch    0/15   train_loss = 0.113\n",
      "Epoch  77 Batch    5/15   train_loss = 0.108\n",
      "Epoch  78 Batch   10/15   train_loss = 0.118\n",
      "Epoch  80 Batch    0/15   train_loss = 0.126\n",
      "Epoch  81 Batch    5/15   train_loss = 0.088\n",
      "Epoch  82 Batch   10/15   train_loss = 0.096\n",
      "Epoch  84 Batch    0/15   train_loss = 0.096\n",
      "Epoch  85 Batch    5/15   train_loss = 0.088\n",
      "Epoch  86 Batch   10/15   train_loss = 0.104\n",
      "Epoch  88 Batch    0/15   train_loss = 0.091\n",
      "Epoch  89 Batch    5/15   train_loss = 0.082\n",
      "Epoch  90 Batch   10/15   train_loss = 0.090\n",
      "Epoch  92 Batch    0/15   train_loss = 0.097\n",
      "Epoch  93 Batch    5/15   train_loss = 0.076\n",
      "Epoch  94 Batch   10/15   train_loss = 0.091\n",
      "Epoch  96 Batch    0/15   train_loss = 0.083\n",
      "Epoch  97 Batch    5/15   train_loss = 0.079\n",
      "Epoch  98 Batch   10/15   train_loss = 0.086\n",
      "Epoch 100 Batch    0/15   train_loss = 0.114\n",
      "Epoch 101 Batch    5/15   train_loss = 0.073\n",
      "Epoch 102 Batch   10/15   train_loss = 0.083\n",
      "Epoch 104 Batch    0/15   train_loss = 0.081\n",
      "Epoch 105 Batch    5/15   train_loss = 0.071\n",
      "Epoch 106 Batch   10/15   train_loss = 0.083\n",
      "Epoch 108 Batch    0/15   train_loss = 0.084\n",
      "Epoch 109 Batch    5/15   train_loss = 0.069\n",
      "Epoch 110 Batch   10/15   train_loss = 0.086\n",
      "Epoch 112 Batch    0/15   train_loss = 0.095\n",
      "Epoch 113 Batch    5/15   train_loss = 0.068\n",
      "Epoch 114 Batch   10/15   train_loss = 0.078\n",
      "Epoch 116 Batch    0/15   train_loss = 0.083\n",
      "Epoch 117 Batch    5/15   train_loss = 0.067\n",
      "Epoch 118 Batch   10/15   train_loss = 0.089\n",
      "Epoch 120 Batch    0/15   train_loss = 0.082\n",
      "Epoch 121 Batch    5/15   train_loss = 0.068\n",
      "Epoch 122 Batch   10/15   train_loss = 0.079\n",
      "Epoch 124 Batch    0/15   train_loss = 0.095\n",
      "Epoch 125 Batch    5/15   train_loss = 0.066\n",
      "Epoch 126 Batch   10/15   train_loss = 0.077\n",
      "Epoch 128 Batch    0/15   train_loss = 0.079\n",
      "Epoch 129 Batch    5/15   train_loss = 0.070\n",
      "Epoch 130 Batch   10/15   train_loss = 0.097\n",
      "Epoch 132 Batch    0/15   train_loss = 0.076\n",
      "Epoch 133 Batch    5/15   train_loss = 0.066\n",
      "Epoch 134 Batch   10/15   train_loss = 0.080\n",
      "Epoch 136 Batch    0/15   train_loss = 0.076\n",
      "Epoch 137 Batch    5/15   train_loss = 0.067\n",
      "Epoch 138 Batch   10/15   train_loss = 0.084\n",
      "Epoch 140 Batch    0/15   train_loss = 0.079\n",
      "Epoch 141 Batch    5/15   train_loss = 0.067\n",
      "Epoch 142 Batch   10/15   train_loss = 0.077\n",
      "Epoch 144 Batch    0/15   train_loss = 0.076\n",
      "Epoch 145 Batch    5/15   train_loss = 0.064\n",
      "Epoch 146 Batch   10/15   train_loss = 0.084\n",
      "Epoch 148 Batch    0/15   train_loss = 0.076\n",
      "Epoch 149 Batch    5/15   train_loss = 0.064\n",
      "Epoch 150 Batch   10/15   train_loss = 0.075\n",
      "Epoch 152 Batch    0/15   train_loss = 0.081\n",
      "Epoch 153 Batch    5/15   train_loss = 0.067\n",
      "Epoch 154 Batch   10/15   train_loss = 0.075\n",
      "Epoch 156 Batch    0/15   train_loss = 0.075\n",
      "Epoch 157 Batch    5/15   train_loss = 0.066\n",
      "Epoch 158 Batch   10/15   train_loss = 0.081\n",
      "Epoch 160 Batch    0/15   train_loss = 0.076\n",
      "Epoch 161 Batch    5/15   train_loss = 0.064\n",
      "Epoch 162 Batch   10/15   train_loss = 0.074\n",
      "Epoch 164 Batch    0/15   train_loss = 0.077\n",
      "Epoch 165 Batch    5/15   train_loss = 0.073\n",
      "Epoch 166 Batch   10/15   train_loss = 0.074\n",
      "Epoch 168 Batch    0/15   train_loss = 0.075\n",
      "Epoch 169 Batch    5/15   train_loss = 0.071\n",
      "Epoch 170 Batch   10/15   train_loss = 0.076\n",
      "Epoch 172 Batch    0/15   train_loss = 0.074\n",
      "Epoch 173 Batch    5/15   train_loss = 0.067\n",
      "Epoch 174 Batch   10/15   train_loss = 0.095\n",
      "Epoch 176 Batch    0/15   train_loss = 0.075\n",
      "Epoch 177 Batch    5/15   train_loss = 0.063\n",
      "Epoch 178 Batch   10/15   train_loss = 0.075\n",
      "Epoch 180 Batch    0/15   train_loss = 0.075\n",
      "Epoch 181 Batch    5/15   train_loss = 0.063\n",
      "Epoch 182 Batch   10/15   train_loss = 0.074\n",
      "Epoch 184 Batch    0/15   train_loss = 0.076\n",
      "Epoch 185 Batch    5/15   train_loss = 0.063\n",
      "Epoch 186 Batch   10/15   train_loss = 0.074\n",
      "Epoch 188 Batch    0/15   train_loss = 0.075\n",
      "Epoch 189 Batch    5/15   train_loss = 0.064\n",
      "Epoch 190 Batch   10/15   train_loss = 0.080\n",
      "Epoch 192 Batch    0/15   train_loss = 0.074\n",
      "Epoch 193 Batch    5/15   train_loss = 0.063\n",
      "Epoch 194 Batch   10/15   train_loss = 0.074\n",
      "Epoch 196 Batch    0/15   train_loss = 0.074\n",
      "Epoch 197 Batch    5/15   train_loss = 0.067\n",
      "Epoch 198 Batch   10/15   train_loss = 0.073\n",
      "Model Trained and Saved\n"
     ]
    }
   ],
   "source": [
    "\"\"\"\n",
    "DON'T MODIFY ANYTHING IN THIS CELL\n",
    "\"\"\"\n",
    "batches = get_batches(int_text, batch_size, seq_length)\n",
    "\n",
    "with tf.Session(graph=train_graph) as sess:\n",
    "    sess.run(tf.global_variables_initializer())\n",
    "\n",
    "    for epoch_i in range(num_epochs):\n",
    "        state = sess.run(initial_state, {input_text: batches[0][0]})\n",
    "\n",
    "        for batch_i, (x, y) in enumerate(batches):\n",
    "            feed = {\n",
    "                input_text: x,\n",
    "                targets: y,\n",
    "                initial_state: state,\n",
    "                lr: learning_rate}\n",
    "            train_loss, state, _ = sess.run([cost, final_state, train_op], feed)\n",
    "\n",
    "            # Show every <show_every_n_batches> batches\n",
    "            if (epoch_i * len(batches) + batch_i) % show_every_n_batches == 0:\n",
    "                print('Epoch {:>3} Batch {:>4}/{}   train_loss = {:.3f}'.format(\n",
    "                    epoch_i,\n",
    "                    batch_i,\n",
    "                    len(batches),\n",
    "                    train_loss))\n",
    "\n",
    "    # Save Model\n",
    "    saver = tf.train.Saver()\n",
    "    saver.save(sess, save_dir)\n",
    "    print('Model Trained and Saved')"
   ]
  },
  {
   "cell_type": "markdown",
   "metadata": {},
   "source": [
    "## Save Parameters\n",
    "Save `seq_length` and `save_dir` for generating a new dream."
   ]
  },
  {
   "cell_type": "code",
   "execution_count": 76,
   "metadata": {
    "collapsed": true
   },
   "outputs": [],
   "source": [
    "\"\"\"\n",
    "DON'T MODIFY ANYTHING IN THIS CELL\n",
    "\"\"\"\n",
    "# Save parameters for checkpoint\n",
    "helper.save_params((seq_length, save_dir))"
   ]
  },
  {
   "cell_type": "markdown",
   "metadata": {},
   "source": [
    "# Checkpoint"
   ]
  },
  {
   "cell_type": "code",
   "execution_count": 77,
   "metadata": {
    "collapsed": true
   },
   "outputs": [],
   "source": [
    "\"\"\"\n",
    "DON'T MODIFY ANYTHING IN THIS CELL\n",
    "\"\"\"\n",
    "import tensorflow as tf\n",
    "import numpy as np\n",
    "import helper\n",
    "\n",
    "_, vocab_to_int, int_to_vocab, token_dict = helper.load_preprocess()\n",
    "seq_length, load_dir = helper.load_params()"
   ]
  },
  {
   "cell_type": "markdown",
   "metadata": {},
   "source": [
    "## Implement Generate Functions\n"
   ]
  },
  {
   "cell_type": "code",
   "execution_count": 78,
   "metadata": {},
   "outputs": [],
   "source": [
    "#Get tensors from `loaded_graph`\n",
    "def get_tensors(loaded_graph):\n",
    "    input = loaded_graph.get_tensor_by_name('input:0')\n",
    "    initial_state = loaded_graph.get_tensor_by_name('initial_state:0')\n",
    "    final_state = loaded_graph.get_tensor_by_name('final_state:0')\n",
    "    probs = loaded_graph.get_tensor_by_name('probs:0')\n",
    "    \n",
    "    return input, initial_state, final_state, probs\n",
    "\n",
    "# Pick the next word using probabilities\n",
    "\n",
    "def pick_word(probabilities, int_to_vocab):\n",
    "    # TODO: Implement Function\n",
    "    idx = np.random.choice(len(int_to_vocab),p=probabilities)\n",
    "    return int_to_vocab[idx]\n"
   ]
  },
  {
   "cell_type": "markdown",
   "metadata": {},
   "source": [
    "## Generate Dream\n",
    "\n",
    "Set `gen_length` to the length of dream desired (in words).\n",
    "Set `prime_word` to any word that exists in the embedding in order to start the text."
   ]
  },
  {
   "cell_type": "code",
   "execution_count": 94,
   "metadata": {
    "scrolled": true
   },
   "outputs": [
    {
     "name": "stdout",
     "output_type": "stream",
     "text": [
      "wagon without changing into a cabin with two levels their walkup. we sit in a back\n"
     ]
    }
   ],
   "source": [
    "gen_length = 16\n",
    "# this word \n",
    "prime_word = \"wagon\"\n",
    "\"\"\"\n",
    "DON'T MODIFY ANYTHING IN THIS CELL THAT IS BELOW THIS LINE\n",
    "\"\"\"\n",
    "loaded_graph = tf.Graph()\n",
    "with tf.Session(graph=loaded_graph) as sess:\n",
    "    # Load saved model\n",
    "    loader = tf.train.import_meta_graph(load_dir + '.meta')\n",
    "    loader.restore(sess, load_dir)\n",
    "\n",
    "    # Get Tensors from loaded model\n",
    "    input_text, initial_state, final_state, probs = get_tensors(loaded_graph)\n",
    "\n",
    "    # Sentences generation setup\n",
    "    gen_sentences = [prime_word]\n",
    "    prev_state = sess.run(initial_state, {input_text: np.array([[1]])})\n",
    "\n",
    "    # Generate sentences\n",
    "    for n in range(gen_length):\n",
    "        # Dynamic Input\n",
    "        dyn_input = [[vocab_to_int[word] for word in gen_sentences[-seq_length:]]]\n",
    "        dyn_seq_length = len(dyn_input[0])\n",
    "\n",
    "        # Get Prediction\n",
    "        probabilities, prev_state = sess.run(\n",
    "            [probs, final_state],\n",
    "            {input_text: dyn_input, initial_state: prev_state})\n",
    "        \n",
    "        pred_word = pick_word(probabilities[dyn_seq_length-1,:], int_to_vocab)\n",
    "\n",
    "        gen_sentences.append(pred_word)\n",
    "    \n",
    "    # Remove tokens\n",
    "    dream = ' '.join(gen_sentences)\n",
    "    for key, token in token_dict.items():\n",
    "        ending = ' ' if key in ['\\n', '(', '\"'] else ''\n",
    "        dream = dream.replace(' ' + token.lower(), key)\n",
    "    dream = dream.replace('\\n ', '\\n')\n",
    "    dream = dream.replace('( ', '(')\n",
    "\n",
    "        \n",
    "    print(dream)"
   ]
  },
  {
   "cell_type": "markdown",
   "metadata": {},
   "source": [
    "# The Dream Doesn't Make Sense\n",
    "Do Dreams ever make sense?"
   ]
  }
 ],
 "metadata": {
  "kernelspec": {
   "display_name": "Python 3",
   "language": "python",
   "name": "python3"
  },
  "language_info": {
   "codemirror_mode": {
    "name": "ipython",
    "version": 3
   },
   "file_extension": ".py",
   "mimetype": "text/x-python",
   "name": "python",
   "nbconvert_exporter": "python",
   "pygments_lexer": "ipython3",
   "version": "3.5.3"
  },
  "widgets": {
   "state": {},
   "version": "1.1.2"
  }
 },
 "nbformat": 4,
 "nbformat_minor": 1
}
